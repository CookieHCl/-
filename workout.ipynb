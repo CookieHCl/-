{
 "cells": [
  {
   "cell_type": "code",
   "execution_count": 19,
   "metadata": {
    "collapsed": true
   },
   "outputs": [],
   "source": [
    "import tensorflow as tf\n",
    "from PIL import Image"
   ]
  },
  {
   "cell_type": "code",
   "execution_count": 52,
   "metadata": {
    "collapsed": true
   },
   "outputs": [],
   "source": [
    "#이미지, 상수들\n",
    "Width=256\n",
    "Height=144\n",
    "path=\"/home/alpha/Dev/과제연구/144p_\"\n",
    "pref1=\"Colored/\"\n",
    "pref2=\"GrayScale/\"\n",
    "suff1=\"_Colored.jpg\"\n",
    "suff2=\"_GrayScale.jpg\"\n",
    "file_num=1000\n",
    "batch_num=1000\n",
    "#zero_batch=[0 for k in range(batch_num)]\n",
    "zero_h=[0 for _ in range(Height)]\n",
    "zero_image=[zero_h for _ in range(Width)]"
   ]
  },
  {
   "cell_type": "code",
   "execution_count": 53,
   "metadata": {
    "collapsed": false
   },
   "outputs": [],
   "source": [
    "#입력\n",
    "x = tf.placeholder(\"float\", shape=[None, Width*Height])\n",
    "#답\n",
    "y_ = tf.placeholder(\"float\", shape=[None, Width*Height*3])\n",
    "#출력값\n",
    "y_conv = tf.placeholder(\"float\", shape=[None, Width*Height*3])"
   ]
  },
  {
   "cell_type": "code",
   "execution_count": 54,
   "metadata": {
    "collapsed": false
   },
   "outputs": [],
   "source": [
    "#가중치 초기화 함수\n",
    "def weight_variable(shape):\n",
    "  initial = tf.truncated_normal(shape, stddev=0.1)\n",
    "  return tf.Variable(initial)\n",
    "#절편 초기화 함수\n",
    "def bias_variable(shape):\n",
    "  initial = tf.constant(0.1, shape=shape)\n",
    "  return tf.Variable(initial)\n",
    "#2D 컨벌루션 실행\n",
    "def conv2d(x, W):\n",
    "  return tf.nn.conv2d(x, W, strides=[1, 1, 1, 3], padding='SAME')"
   ]
  },
  {
   "cell_type": "code",
   "execution_count": 55,
   "metadata": {
    "collapsed": true
   },
   "outputs": [],
   "source": [
    "#학습때 사용하는 변수들\n",
    "x_image = tf.reshape(x, [-1,Width,Height,1])\n",
    "y__ = tf.reshape(y_, [-1,Width,Height,3])\n",
    "y_conv = tf.reshape(y_, [-1,Width,Height,3])\n",
    "#가중치, 절편, 결과\n",
    "W_conv = weight_variable([10, 10, 1, 3])\n",
    "b_conv = bias_variable([3])\n",
    "y_conv = tf.nn.relu(conv2d(x_image, W_conv))"
   ]
  },
  {
   "cell_type": "code",
   "execution_count": 56,
   "metadata": {
    "collapsed": true
   },
   "outputs": [],
   "source": [
    "cost = -tf.reduce_sum((y__-y_conv)*(y__-y_conv))\n",
    "train_step = tf.train.AdamOptimizer(1e-3).minimize(cost)\n",
    "sess = tf.Session()\n",
    "sess.run(tf.global_variables_initializer())"
   ]
  },
  {
   "cell_type": "code",
   "execution_count": 51,
   "metadata": {
    "collapsed": false
   },
   "outputs": [
    {
     "name": "stdout",
     "output_type": "stream",
     "text": [
      "YAY\n"
     ]
    },
    {
     "ename": "KeyboardInterrupt",
     "evalue": "",
     "output_type": "error",
     "traceback": [
      "\u001b[0;31m---------------------------------------------------------------------------\u001b[0m",
      "\u001b[0;31mKeyboardInterrupt\u001b[0m                         Traceback (most recent call last)",
      "\u001b[0;32m<ipython-input-51-bf00b434b36f>\u001b[0m in \u001b[0;36m<module>\u001b[0;34m()\u001b[0m\n\u001b[1;32m     16\u001b[0m             \u001b[0;32mfor\u001b[0m \u001b[0mj\u001b[0m \u001b[0;32min\u001b[0m \u001b[0mrange\u001b[0m\u001b[0;34m(\u001b[0m\u001b[0mHeight\u001b[0m\u001b[0;34m)\u001b[0m\u001b[0;34m:\u001b[0m\u001b[0;34m\u001b[0m\u001b[0m\n\u001b[1;32m     17\u001b[0m                 \u001b[0;32mfor\u001b[0m \u001b[0mk\u001b[0m \u001b[0;32min\u001b[0m \u001b[0mrange\u001b[0m\u001b[0;34m(\u001b[0m\u001b[0;36m3\u001b[0m\u001b[0;34m)\u001b[0m\u001b[0;34m:\u001b[0m\u001b[0;34m\u001b[0m\u001b[0m\n\u001b[0;32m---> 18\u001b[0;31m                     \u001b[0my_\u001b[0m\u001b[0;34m[\u001b[0m\u001b[0mk\u001b[0m\u001b[0;34m]\u001b[0m\u001b[0;34m[\u001b[0m\u001b[0mi\u001b[0m\u001b[0;34m]\u001b[0m\u001b[0;34m[\u001b[0m\u001b[0mj\u001b[0m\u001b[0;34m]\u001b[0m\u001b[0;34m[\u001b[0m\u001b[0mt\u001b[0m\u001b[0;34m]\u001b[0m\u001b[0;34m=\u001b[0m\u001b[0mpx\u001b[0m\u001b[0;34m[\u001b[0m\u001b[0mi\u001b[0m\u001b[0;34m,\u001b[0m\u001b[0mj\u001b[0m\u001b[0;34m]\u001b[0m\u001b[0;34m[\u001b[0m\u001b[0mk\u001b[0m\u001b[0;34m]\u001b[0m\u001b[0;34m\u001b[0m\u001b[0m\n\u001b[0m\u001b[1;32m     19\u001b[0m     \u001b[0msess\u001b[0m\u001b[0;34m.\u001b[0m\u001b[0mrun\u001b[0m\u001b[0;34m(\u001b[0m\u001b[0mtrain_step\u001b[0m\u001b[0;34m,\u001b[0m\u001b[0mfeed_dict\u001b[0m\u001b[0;34m=\u001b[0m\u001b[0;34m{\u001b[0m\u001b[0mx_input\u001b[0m\u001b[0;34m:\u001b[0m \u001b[0mx_img\u001b[0m \u001b[0;32mfor\u001b[0m \u001b[0mx_input\u001b[0m\u001b[0;34m,\u001b[0m \u001b[0mx_img\u001b[0m \u001b[0;32min\u001b[0m \u001b[0mzip\u001b[0m\u001b[0;34m(\u001b[0m\u001b[0mx_image\u001b[0m\u001b[0;34m,\u001b[0m \u001b[0mx\u001b[0m\u001b[0;34m)\u001b[0m\u001b[0;34m}\u001b[0m\u001b[0;34m)\u001b[0m\u001b[0;34m\u001b[0m\u001b[0m\n\u001b[1;32m     20\u001b[0m     \u001b[0;32mif\u001b[0m \u001b[0mi\u001b[0m\u001b[0;34m%\u001b[0m\u001b[0;36m10\u001b[0m \u001b[0;34m==\u001b[0m \u001b[0;36m0\u001b[0m\u001b[0;34m:\u001b[0m\u001b[0;34m\u001b[0m\u001b[0m\n",
      "\u001b[0;31mKeyboardInterrupt\u001b[0m: "
     ]
    }
   ],
   "source": [
    "for steps in range(1000):\n",
    "    print(\"YAY\")\n",
    "    x=[zero_image for _ in range(batch_num)]\n",
    "    y_=[zero_image for k in range(3)]\n",
    "    for t in range(batch_num):\n",
    "        img_GrayScale=Image.open(path+pref1+str(t)+suff1)\n",
    "        px=list(img_GrayScale.getdata())\n",
    "        px=[px[h*Width: (h+1)*Width] for h in range(Height)]\n",
    "        x[t]=px\n",
    "        #for i in range(Width):\n",
    "        #    for j in range(Height):\n",
    "        #        x[0][i][j][t]=px[i,j]\n",
    "        \n",
    "        img_Colored=Image.open(path+pref2+str(t)+suff2)\n",
    "        px1=list(img_Colored.getdata())\n",
    "        px1=[[px1[h*Width:(h+1)*Width][c] for h in range(Height)] for c in range(3)]\n",
    "        y[t]=px1\n",
    "        #for i in range(Width):\n",
    "        #    for j in range(Height):\n",
    "        #        for k in range(3):\n",
    "        #            y_[k][i][j][t]=px[i,j][k]\n",
    "    sess.run(train_step,feed_dict={x_input: x_img for x_input, x_img in zip(x_image, x)})\n",
    "    if i%10 == 0:\n",
    "        train_accuracy = sess.run( cost, feed_dict={x: x, y_: y_})\n",
    "        print(\"step %d, training cost %g\"%(i, cost))"
   ]
  },
  {
   "cell_type": "code",
   "execution_count": 17,
   "metadata": {
    "collapsed": false
   },
   "outputs": [],
   "source": []
  }
 ],
 "metadata": {
  "kernelspec": {
   "display_name": "Python 3",
   "language": "python",
   "name": "python3"
  },
  "language_info": {
   "codemirror_mode": {
    "name": "ipython",
    "version": 3
   },
   "file_extension": ".py",
   "mimetype": "text/x-python",
   "name": "python",
   "nbconvert_exporter": "python",
   "pygments_lexer": "ipython3",
   "version": "3.5.2"
  }
 },
 "nbformat": 4,
 "nbformat_minor": 2
}
